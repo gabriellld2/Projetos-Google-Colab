{
  "nbformat": 4,
  "nbformat_minor": 0,
  "metadata": {
    "colab": {
      "name": "Importação de dados com Pandas.ipynb",
      "provenance": []
    },
    "kernelspec": {
      "name": "python3",
      "display_name": "Python 3"
    },
    "language_info": {
      "name": "python"
    }
  },
  "cells": [
    {
      "cell_type": "markdown",
      "metadata": {
        "id": "_LZOAVodsuCc"
      },
      "source": [
        "#**Formas de importação de dados com Pandas**\n",
        "Tipos de arquivos:\n",
        "*   csv\n",
        "*   xlsx\n",
        "*   json\n"
      ]
    },
    {
      "cell_type": "code",
      "metadata": {
        "id": "09jAUeNbstzo"
      },
      "source": [
        "#Importação da biblioteca pandas\n",
        "import pandas as pd #essa é a forma de importação padrão da biblioteca"
      ],
      "execution_count": 1,
      "outputs": []
    },
    {
      "cell_type": "markdown",
      "metadata": {
        "id": "Cjd6ocC0vwW3"
      },
      "source": [
        "#**Importando CSV**"
      ]
    },
    {
      "cell_type": "code",
      "metadata": {
        "colab": {
          "base_uri": "https://localhost:8080/",
          "height": 204
        },
        "id": "cQcwiC2tsjPZ",
        "outputId": "cf2e52a1-a9ef-46d0-e644-bd884e687689"
      },
      "source": [
        "#importando um arquivo localmente, ou seja, o arquivo está no mesmo diretório aonde está o arquivo ipynb\n",
        "df = pd.read_csv('fVendas.csv')\n",
        "df.head() #Mostra as 5 primeiras linhas do dataframe"
      ],
      "execution_count": 3,
      "outputs": [
        {
          "output_type": "execute_result",
          "data": {
            "text/html": [
              "<div>\n",
              "<style scoped>\n",
              "    .dataframe tbody tr th:only-of-type {\n",
              "        vertical-align: middle;\n",
              "    }\n",
              "\n",
              "    .dataframe tbody tr th {\n",
              "        vertical-align: top;\n",
              "    }\n",
              "\n",
              "    .dataframe thead th {\n",
              "        text-align: right;\n",
              "    }\n",
              "</style>\n",
              "<table border=\"1\" class=\"dataframe\">\n",
              "  <thead>\n",
              "    <tr style=\"text-align: right;\">\n",
              "      <th></th>\n",
              "      <th>Data Venda</th>\n",
              "      <th>ID_Produto</th>\n",
              "      <th>Cidade</th>\n",
              "      <th>Produto</th>\n",
              "      <th>Valor</th>\n",
              "      <th>ID_Vendedor</th>\n",
              "    </tr>\n",
              "  </thead>\n",
              "  <tbody>\n",
              "    <tr>\n",
              "      <th>0</th>\n",
              "      <td>41279</td>\n",
              "      <td>3</td>\n",
              "      <td>Rio de Janeiro</td>\n",
              "      <td>3</td>\n",
              "      <td>3490.0</td>\n",
              "      <td>6</td>\n",
              "    </tr>\n",
              "    <tr>\n",
              "      <th>1</th>\n",
              "      <td>41280</td>\n",
              "      <td>1</td>\n",
              "      <td>Rio de Janeiro</td>\n",
              "      <td>6</td>\n",
              "      <td>54.0</td>\n",
              "      <td>8</td>\n",
              "    </tr>\n",
              "    <tr>\n",
              "      <th>2</th>\n",
              "      <td>41280</td>\n",
              "      <td>4</td>\n",
              "      <td>Duque Caxias</td>\n",
              "      <td>1</td>\n",
              "      <td>100.0</td>\n",
              "      <td>7</td>\n",
              "    </tr>\n",
              "    <tr>\n",
              "      <th>3</th>\n",
              "      <td>41280</td>\n",
              "      <td>2</td>\n",
              "      <td>Angra</td>\n",
              "      <td>9</td>\n",
              "      <td>14170.0</td>\n",
              "      <td>7</td>\n",
              "    </tr>\n",
              "    <tr>\n",
              "      <th>4</th>\n",
              "      <td>41280</td>\n",
              "      <td>4</td>\n",
              "      <td>Duque Caxias</td>\n",
              "      <td>7</td>\n",
              "      <td>100.0</td>\n",
              "      <td>6</td>\n",
              "    </tr>\n",
              "  </tbody>\n",
              "</table>\n",
              "</div>"
            ],
            "text/plain": [
              "   Data Venda  ID_Produto          Cidade  Produto    Valor  ID_Vendedor\n",
              "0       41279           3  Rio de Janeiro        3   3490.0            6\n",
              "1       41280           1  Rio de Janeiro        6     54.0            8\n",
              "2       41280           4    Duque Caxias        1    100.0            7\n",
              "3       41280           2           Angra        9  14170.0            7\n",
              "4       41280           4    Duque Caxias        7    100.0            6"
            ]
          },
          "metadata": {},
          "execution_count": 3
        }
      ]
    },
    {
      "cell_type": "code",
      "metadata": {
        "colab": {
          "base_uri": "https://localhost:8080/",
          "height": 111
        },
        "id": "588fYmEsvfW0",
        "outputId": "163f83cd-2ad8-4a8e-f55b-47776a532908"
      },
      "source": [
        "#importando um arquivo quando não está no local\n",
        "df = pd.read_csv('/content/fVendas.csv', sep=',', header=0, nrows= 2  ) # O local é passado em com o caminho inicial e separado por '/' até chegar no arquivo final\n",
        "                                                  # sep -> Significa o separador que será usado para definir as colunas\n",
        "                                                  # header -> Indica qual linha está o cabeçalho de dados\n",
        "                                                  # nrows -> Número de linhas a ser lido no arquivo\n",
        "\n",
        "df.head() #Mostra as 5 primeiras linhas do dataframe"
      ],
      "execution_count": 12,
      "outputs": [
        {
          "output_type": "execute_result",
          "data": {
            "text/html": [
              "<div>\n",
              "<style scoped>\n",
              "    .dataframe tbody tr th:only-of-type {\n",
              "        vertical-align: middle;\n",
              "    }\n",
              "\n",
              "    .dataframe tbody tr th {\n",
              "        vertical-align: top;\n",
              "    }\n",
              "\n",
              "    .dataframe thead th {\n",
              "        text-align: right;\n",
              "    }\n",
              "</style>\n",
              "<table border=\"1\" class=\"dataframe\">\n",
              "  <thead>\n",
              "    <tr style=\"text-align: right;\">\n",
              "      <th></th>\n",
              "      <th>Data Venda</th>\n",
              "      <th>ID_Produto</th>\n",
              "      <th>Cidade</th>\n",
              "      <th>Produto</th>\n",
              "      <th>Valor</th>\n",
              "      <th>ID_Vendedor</th>\n",
              "    </tr>\n",
              "  </thead>\n",
              "  <tbody>\n",
              "    <tr>\n",
              "      <th>0</th>\n",
              "      <td>41279</td>\n",
              "      <td>3</td>\n",
              "      <td>Rio de Janeiro</td>\n",
              "      <td>3</td>\n",
              "      <td>3490</td>\n",
              "      <td>6</td>\n",
              "    </tr>\n",
              "    <tr>\n",
              "      <th>1</th>\n",
              "      <td>41280</td>\n",
              "      <td>1</td>\n",
              "      <td>Rio de Janeiro</td>\n",
              "      <td>6</td>\n",
              "      <td>54</td>\n",
              "      <td>8</td>\n",
              "    </tr>\n",
              "  </tbody>\n",
              "</table>\n",
              "</div>"
            ],
            "text/plain": [
              "   Data Venda  ID_Produto          Cidade  Produto  Valor  ID_Vendedor\n",
              "0       41279           3  Rio de Janeiro        3   3490            6\n",
              "1       41280           1  Rio de Janeiro        6     54            8"
            ]
          },
          "metadata": {},
          "execution_count": 12
        }
      ]
    },
    {
      "cell_type": "markdown",
      "metadata": {
        "id": "yEJsAmnSxX9C"
      },
      "source": [
        "###**Há muitos outros atributos, esses são alguns exemplos que podem te ajudar no dia a dia**\n",
        "[Link da documentação](https://pandas.pydata.org/docs/reference/api/pandas.read_csv.html)"
      ]
    },
    {
      "cell_type": "markdown",
      "metadata": {
        "id": "sW35vUrmyEQJ"
      },
      "source": [
        "#**Importando XLSX**"
      ]
    },
    {
      "cell_type": "code",
      "metadata": {
        "colab": {
          "base_uri": "https://localhost:8080/",
          "height": 235
        },
        "id": "RPj_sXmUyCnP",
        "outputId": "f37365e3-003d-4d36-f6a7-718932db763f"
      },
      "source": [
        "#importando um arquivo usando a função xlsx\n",
        "df = pd.read_excel('fVendas.xlsx', index_col=0 ,dtype={'ID_Produto': float},\n",
        "                   na_values=['Vazio'])                                      # index_col -> Define qual coluna será usada como index\n",
        "                                                                             # dtype -> Define o tipo de dado de uma ou mais colunas\n",
        "                                                                             # na_values -> Caso tenha um valor vazio ele muda para Vazio\n",
        "df.head() #Mostra as 5 primeiras linhas do dataframe"
      ],
      "execution_count": 18,
      "outputs": [
        {
          "output_type": "execute_result",
          "data": {
            "text/html": [
              "<div>\n",
              "<style scoped>\n",
              "    .dataframe tbody tr th:only-of-type {\n",
              "        vertical-align: middle;\n",
              "    }\n",
              "\n",
              "    .dataframe tbody tr th {\n",
              "        vertical-align: top;\n",
              "    }\n",
              "\n",
              "    .dataframe thead th {\n",
              "        text-align: right;\n",
              "    }\n",
              "</style>\n",
              "<table border=\"1\" class=\"dataframe\">\n",
              "  <thead>\n",
              "    <tr style=\"text-align: right;\">\n",
              "      <th></th>\n",
              "      <th>ID_Produto</th>\n",
              "      <th>Cidade</th>\n",
              "      <th>Produto</th>\n",
              "      <th>Valor</th>\n",
              "      <th>ID_Vendedor</th>\n",
              "    </tr>\n",
              "    <tr>\n",
              "      <th>Data Venda</th>\n",
              "      <th></th>\n",
              "      <th></th>\n",
              "      <th></th>\n",
              "      <th></th>\n",
              "      <th></th>\n",
              "    </tr>\n",
              "  </thead>\n",
              "  <tbody>\n",
              "    <tr>\n",
              "      <th>2013-01-05</th>\n",
              "      <td>3.0</td>\n",
              "      <td>Rio de Janeiro</td>\n",
              "      <td>7</td>\n",
              "      <td>3490.0</td>\n",
              "      <td>3</td>\n",
              "    </tr>\n",
              "    <tr>\n",
              "      <th>2013-01-06</th>\n",
              "      <td>2.0</td>\n",
              "      <td>Rio de Janeiro</td>\n",
              "      <td>7</td>\n",
              "      <td>54.0</td>\n",
              "      <td>2</td>\n",
              "    </tr>\n",
              "    <tr>\n",
              "      <th>2013-01-06</th>\n",
              "      <td>1.0</td>\n",
              "      <td>Duque Caxias</td>\n",
              "      <td>8</td>\n",
              "      <td>100.0</td>\n",
              "      <td>1</td>\n",
              "    </tr>\n",
              "    <tr>\n",
              "      <th>2013-01-06</th>\n",
              "      <td>3.0</td>\n",
              "      <td>Angra</td>\n",
              "      <td>2</td>\n",
              "      <td>14170.0</td>\n",
              "      <td>3</td>\n",
              "    </tr>\n",
              "    <tr>\n",
              "      <th>2013-01-06</th>\n",
              "      <td>3.0</td>\n",
              "      <td>Duque Caxias</td>\n",
              "      <td>8</td>\n",
              "      <td>100.0</td>\n",
              "      <td>3</td>\n",
              "    </tr>\n",
              "  </tbody>\n",
              "</table>\n",
              "</div>"
            ],
            "text/plain": [
              "            ID_Produto          Cidade  Produto    Valor  ID_Vendedor\n",
              "Data Venda                                                           \n",
              "2013-01-05         3.0  Rio de Janeiro        7   3490.0            3\n",
              "2013-01-06         2.0  Rio de Janeiro        7     54.0            2\n",
              "2013-01-06         1.0    Duque Caxias        8    100.0            1\n",
              "2013-01-06         3.0           Angra        2  14170.0            3\n",
              "2013-01-06         3.0    Duque Caxias        8    100.0            3"
            ]
          },
          "metadata": {},
          "execution_count": 18
        }
      ]
    },
    {
      "cell_type": "code",
      "metadata": {
        "colab": {
          "base_uri": "https://localhost:8080/",
          "height": 235
        },
        "id": "F1P9EU7qycxl",
        "outputId": "2f426086-c1f6-4d9f-a03d-8e21808a2612"
      },
      "source": [
        "#importando um arquivo usando a função xlsx\n",
        "df = pd.read_excel('fVendas.xlsx', index_col=0 ,dtype={'ID_Produto': float},\n",
        "                   na_values=['Vazio'], sheet_name='fvendas')                # index_col -> Define qual coluna será usada como index\n",
        "                                                                             # dtype -> Define o tipo de dado de uma ou mais colunas\n",
        "                                                                             # na_values -> Caso tenha um valor vazio ele muda para Vazio\n",
        "                                                                             # sheet_name -> Define a aba da planilha que vai ser importada (Observe a voluna ID_Vendedor)\n",
        "\n",
        "df.head() #Mostra as 5 primeiras linhas do dataframe"
      ],
      "execution_count": 20,
      "outputs": [
        {
          "output_type": "execute_result",
          "data": {
            "text/html": [
              "<div>\n",
              "<style scoped>\n",
              "    .dataframe tbody tr th:only-of-type {\n",
              "        vertical-align: middle;\n",
              "    }\n",
              "\n",
              "    .dataframe tbody tr th {\n",
              "        vertical-align: top;\n",
              "    }\n",
              "\n",
              "    .dataframe thead th {\n",
              "        text-align: right;\n",
              "    }\n",
              "</style>\n",
              "<table border=\"1\" class=\"dataframe\">\n",
              "  <thead>\n",
              "    <tr style=\"text-align: right;\">\n",
              "      <th></th>\n",
              "      <th>ID_Produto</th>\n",
              "      <th>Cidade</th>\n",
              "      <th>Produto</th>\n",
              "      <th>Valor</th>\n",
              "      <th>ID_Vendedor</th>\n",
              "    </tr>\n",
              "    <tr>\n",
              "      <th>Data Venda</th>\n",
              "      <th></th>\n",
              "      <th></th>\n",
              "      <th></th>\n",
              "      <th></th>\n",
              "      <th></th>\n",
              "    </tr>\n",
              "  </thead>\n",
              "  <tbody>\n",
              "    <tr>\n",
              "      <th>41279</th>\n",
              "      <td>3.0</td>\n",
              "      <td>Rio de Janeiro</td>\n",
              "      <td>6</td>\n",
              "      <td>3490.0</td>\n",
              "      <td>7</td>\n",
              "    </tr>\n",
              "    <tr>\n",
              "      <th>41280</th>\n",
              "      <td>1.0</td>\n",
              "      <td>Rio de Janeiro</td>\n",
              "      <td>2</td>\n",
              "      <td>54.0</td>\n",
              "      <td>8</td>\n",
              "    </tr>\n",
              "    <tr>\n",
              "      <th>41280</th>\n",
              "      <td>3.0</td>\n",
              "      <td>Duque Caxias</td>\n",
              "      <td>2</td>\n",
              "      <td>100.0</td>\n",
              "      <td>6</td>\n",
              "    </tr>\n",
              "    <tr>\n",
              "      <th>41280</th>\n",
              "      <td>2.0</td>\n",
              "      <td>Angra</td>\n",
              "      <td>9</td>\n",
              "      <td>14170.0</td>\n",
              "      <td>7</td>\n",
              "    </tr>\n",
              "    <tr>\n",
              "      <th>41280</th>\n",
              "      <td>2.0</td>\n",
              "      <td>Duque Caxias</td>\n",
              "      <td>4</td>\n",
              "      <td>100.0</td>\n",
              "      <td>8</td>\n",
              "    </tr>\n",
              "  </tbody>\n",
              "</table>\n",
              "</div>"
            ],
            "text/plain": [
              "            ID_Produto          Cidade  Produto    Valor  ID_Vendedor\n",
              "Data Venda                                                           \n",
              "41279              3.0  Rio de Janeiro        6   3490.0            7\n",
              "41280              1.0  Rio de Janeiro        2     54.0            8\n",
              "41280              3.0    Duque Caxias        2    100.0            6\n",
              "41280              2.0           Angra        9  14170.0            7\n",
              "41280              2.0    Duque Caxias        4    100.0            8"
            ]
          },
          "metadata": {},
          "execution_count": 20
        }
      ]
    },
    {
      "cell_type": "markdown",
      "metadata": {
        "id": "wB-HA8-C1AKg"
      },
      "source": [
        "[Documentação Excel](https://pandas.pydata.org/docs/reference/api/pandas.read_excel.html)"
      ]
    },
    {
      "cell_type": "markdown",
      "metadata": {
        "id": "0QZK70SA1aUd"
      },
      "source": [
        "#**Importando Json**"
      ]
    },
    {
      "cell_type": "markdown",
      "metadata": {
        "id": "NCSG1Nvu4U2n"
      },
      "source": [
        "[link do dataset usado no código abaixo](https://data.world/dr5hn/country-state-city/workspace/file?filename=cities.json)"
      ]
    },
    {
      "cell_type": "code",
      "metadata": {
        "colab": {
          "base_uri": "https://localhost:8080/",
          "height": 204
        },
        "id": "YFThDu4t1cal",
        "outputId": "d8f61e7c-cd0d-4646-c6b3-64a44b0fd011"
      },
      "source": [
        "# Importando um arquivo json\n",
        "df = pd.read_json('cities.json') # Geralmente o arquivo json é padrão, porém há muitos atributos dentro desse método read_json\n",
        "df.head()"
      ],
      "execution_count": 23,
      "outputs": [
        {
          "output_type": "execute_result",
          "data": {
            "text/html": [
              "<div>\n",
              "<style scoped>\n",
              "    .dataframe tbody tr th:only-of-type {\n",
              "        vertical-align: middle;\n",
              "    }\n",
              "\n",
              "    .dataframe tbody tr th {\n",
              "        vertical-align: top;\n",
              "    }\n",
              "\n",
              "    .dataframe thead th {\n",
              "        text-align: right;\n",
              "    }\n",
              "</style>\n",
              "<table border=\"1\" class=\"dataframe\">\n",
              "  <thead>\n",
              "    <tr style=\"text-align: right;\">\n",
              "      <th></th>\n",
              "      <th>id</th>\n",
              "      <th>name</th>\n",
              "      <th>state_id</th>\n",
              "      <th>state_code</th>\n",
              "      <th>country_id</th>\n",
              "      <th>country_code</th>\n",
              "      <th>latitude</th>\n",
              "      <th>longitude</th>\n",
              "      <th>wikiDataId</th>\n",
              "    </tr>\n",
              "  </thead>\n",
              "  <tbody>\n",
              "    <tr>\n",
              "      <th>0</th>\n",
              "      <td>52</td>\n",
              "      <td>Ashkāsham</td>\n",
              "      <td>3901</td>\n",
              "      <td>BDS</td>\n",
              "      <td>1</td>\n",
              "      <td>AF</td>\n",
              "      <td>36.68333</td>\n",
              "      <td>71.53333</td>\n",
              "      <td>Q4805192</td>\n",
              "    </tr>\n",
              "    <tr>\n",
              "      <th>1</th>\n",
              "      <td>68</td>\n",
              "      <td>Fayzabad</td>\n",
              "      <td>3901</td>\n",
              "      <td>BDS</td>\n",
              "      <td>1</td>\n",
              "      <td>AF</td>\n",
              "      <td>37.11664</td>\n",
              "      <td>70.58002</td>\n",
              "      <td>Q156558</td>\n",
              "    </tr>\n",
              "    <tr>\n",
              "      <th>2</th>\n",
              "      <td>78</td>\n",
              "      <td>Jurm</td>\n",
              "      <td>3901</td>\n",
              "      <td>BDS</td>\n",
              "      <td>1</td>\n",
              "      <td>AF</td>\n",
              "      <td>36.86477</td>\n",
              "      <td>70.83421</td>\n",
              "      <td>Q10308323</td>\n",
              "    </tr>\n",
              "    <tr>\n",
              "      <th>3</th>\n",
              "      <td>84</td>\n",
              "      <td>Khandūd</td>\n",
              "      <td>3901</td>\n",
              "      <td>BDS</td>\n",
              "      <td>1</td>\n",
              "      <td>AF</td>\n",
              "      <td>36.95127</td>\n",
              "      <td>72.31800</td>\n",
              "      <td>Q3290334</td>\n",
              "    </tr>\n",
              "    <tr>\n",
              "      <th>4</th>\n",
              "      <td>115</td>\n",
              "      <td>Rāghistān</td>\n",
              "      <td>3901</td>\n",
              "      <td>BDS</td>\n",
              "      <td>1</td>\n",
              "      <td>AF</td>\n",
              "      <td>37.66079</td>\n",
              "      <td>70.67346</td>\n",
              "      <td>Q2670909</td>\n",
              "    </tr>\n",
              "  </tbody>\n",
              "</table>\n",
              "</div>"
            ],
            "text/plain": [
              "    id       name  state_id  ...  latitude  longitude wikiDataId\n",
              "0   52  Ashkāsham      3901  ...  36.68333   71.53333   Q4805192\n",
              "1   68   Fayzabad      3901  ...  37.11664   70.58002    Q156558\n",
              "2   78       Jurm      3901  ...  36.86477   70.83421  Q10308323\n",
              "3   84    Khandūd      3901  ...  36.95127   72.31800   Q3290334\n",
              "4  115  Rāghistān      3901  ...  37.66079   70.67346   Q2670909\n",
              "\n",
              "[5 rows x 9 columns]"
            ]
          },
          "metadata": {},
          "execution_count": 23
        }
      ]
    },
    {
      "cell_type": "markdown",
      "metadata": {
        "id": "sz6S5Jfr4EY1"
      },
      "source": [
        "[Documentação json](https://pandas.pydata.org/docs/reference/api/pandas.io.json.read_json.html)"
      ]
    },
    {
      "cell_type": "code",
      "metadata": {
        "id": "3Xog_5xH2947"
      },
      "source": [
        ""
      ],
      "execution_count": null,
      "outputs": []
    }
  ]
}